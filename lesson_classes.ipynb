{
 "cells": [
  {
   "cell_type": "code",
   "execution_count": 3,
   "metadata": {},
   "outputs": [],
   "source": [
    "import re\n",
    "import time\n",
    "import json\n",
    "import yaml\n",
    "import dicttoxml, xmltodict\n",
    "\n",
    "from functools import partial\n",
    "from pprint import pprint as pp"
   ]
  },
  {
   "cell_type": "code",
   "execution_count": 65,
   "metadata": {},
   "outputs": [
    {
     "name": "stdout",
     "output_type": "stream",
     "text": [
      "__enter__\n",
      "__exit__\n"
     ]
    },
    {
     "ename": "ValueError",
     "evalue": "WRONG!",
     "output_type": "error",
     "traceback": [
      "\u001b[0;31m---------------------------------------------------------------------------\u001b[0m",
      "\u001b[0;31mValueError\u001b[0m                                Traceback (most recent call last)",
      "\u001b[0;32m<ipython-input-65-099524e926a9>\u001b[0m in \u001b[0;36m<module>\u001b[0;34m\u001b[0m\n\u001b[1;32m     19\u001b[0m \u001b[0;34m\u001b[0m\u001b[0m\n\u001b[1;32m     20\u001b[0m \u001b[0;32mwith\u001b[0m \u001b[0mA\u001b[0m\u001b[0;34m(\u001b[0m\u001b[0;34m)\u001b[0m\u001b[0;34m:\u001b[0m\u001b[0;34m\u001b[0m\u001b[0;34m\u001b[0m\u001b[0m\n\u001b[0;32m---> 21\u001b[0;31m     \u001b[0;32mraise\u001b[0m \u001b[0mValueError\u001b[0m\u001b[0;34m(\u001b[0m\u001b[0;34m'WRONG!'\u001b[0m\u001b[0;34m)\u001b[0m\u001b[0;34m\u001b[0m\u001b[0;34m\u001b[0m\u001b[0m\n\u001b[0m",
      "\u001b[0;31mValueError\u001b[0m: WRONG!"
     ]
    }
   ],
   "source": [
    "class timer():\n",
    "    def __init__(self, message):\n",
    "        self.message = message\n",
    "\n",
    "    def __enter__(self):\n",
    "        self.start = time.time()\n",
    "        return None\n",
    "\n",
    "    def __exit__(self, type, value, traceback):\n",
    "        elapsed_time = (time.time() - self.start) * 1000\n",
    "        print(self.message.format(elapsed_time))\n",
    "        \n",
    "class A():\n",
    "    def __enter__(self):\n",
    "        print('__enter__')\n",
    "    \n",
    "    def __exit__(self, type, value, traceback):\n",
    "        print('__exit__')\n",
    "\n",
    "with A():\n",
    "    raise ValueError('WRONG!')"
   ]
  },
  {
   "cell_type": "markdown",
   "metadata": {},
   "source": [
    "\n",
    "## Magic attributes/methods"
   ]
  },
  {
   "cell_type": "code",
   "execution_count": 16,
   "metadata": {},
   "outputs": [
    {
     "name": "stdout",
     "output_type": "stream",
     "text": [
      "foo test <__main__.A object at 0x7ff6717ba580>\n",
      "foo test2 <__main__.A object at 0x7ff6717babe0>\n",
      "<__main__.A object at 0x7ff6717ba580>\n",
      "<__main__.A object at 0x7ff6717babe0>\n"
     ]
    }
   ],
   "source": [
    "class A: # class A(object):\n",
    "    \"\"\"\n",
    "    This is A\n",
    "    \"\"\"\n",
    "    def __init__(self, name):\n",
    "        self.name = name\n",
    "    \n",
    "    def foo(self):\n",
    "        \"\"\"\n",
    "        foo\n",
    "        \"\"\"\n",
    "        print('foo', self.name, self)\n",
    "\n",
    "    \n",
    "a = A('test')\n",
    "b = A('test2')\n",
    "# a.foo()\n",
    "A.foo(a)\n",
    "A.foo(b)\n",
    "\n",
    "print(a)\n",
    "print(b)\n",
    "# print(dir(a))\n",
    "# print(dir(A))\n",
    "# print(dir(object))"
   ]
  },
  {
   "cell_type": "code",
   "execution_count": 19,
   "metadata": {},
   "outputs": [
    {
     "name": "stdout",
     "output_type": "stream",
     "text": [
      "<class '__main__.A'>\n",
      "<class 'type'> (<class 'object'>,)\n",
      "\n",
      "    This is A\n",
      "    \n",
      "\n",
      "        foo\n",
      "        \n",
      "Help on function foo in module __main__:\n",
      "\n",
      "foo(self)\n",
      "    foo\n",
      "\n"
     ]
    }
   ],
   "source": [
    "print(a.__class__)\n",
    "print(A.__class__, A.__bases__)\n",
    "print(A.__doc__)\n",
    "print(A.foo.__doc__)\n",
    "help(A.foo)"
   ]
  },
  {
   "cell_type": "code",
   "execution_count": 20,
   "metadata": {
    "collapsed": true
   },
   "outputs": [
    {
     "name": "stdout",
     "output_type": "stream",
     "text": [
      "<__main__.A object at 0x7ff6717ba580>\n",
      "<__main__.A object at 0x7ff6717ba580>\n",
      "43\n",
      "43\n",
      "Is not None\n"
     ]
    }
   ],
   "source": [
    "print(a.__str__())\n",
    "print(str(a))\n",
    "\n",
    "dir(a)\n",
    "a.__dir__()\n",
    "\n",
    "# xxx(a)\n",
    "# a.__xxx__()\n",
    "\n",
    "v = 42\n",
    "print(v + 1)\n",
    "print(v.__add__(1))\n",
    "\n",
    "class Employee:\n",
    "    def __init__(self, first_name=None, last_name=None, email=None):\n",
    "        self._first_name = first_name\n",
    "        self._last_name = last_name\n",
    "        self._email = email\n",
    "    \n",
    "    def __bool__(self):\n",
    "        return bool(self._first_name or \\\n",
    "               self._last_name or \\\n",
    "               self._email)\n",
    "            \n",
    "e = Employee()\n",
    "\n",
    "\n",
    "if e:\n",
    "    print('Not empty')\n",
    "    # do some work\n",
    "    \n",
    "if e is not None: # None ~= null\n",
    "    print('Is not None')\n",
    "    # do some work"
   ]
  },
  {
   "cell_type": "markdown",
   "metadata": {},
   "source": [
    "#### operator overloading"
   ]
  },
  {
   "cell_type": "code",
   "execution_count": 7,
   "metadata": {},
   "outputs": [
    {
     "name": "stdout",
     "output_type": "stream",
     "text": [
      "first_name='John' OR last_name='Gonzalez' OR stuff=True OR age=42\n"
     ]
    }
   ],
   "source": [
    "class Q:\n",
    "    def __init__(self, **params):\n",
    "        self._params = params\n",
    "    \n",
    "    def __or__(self, other):\n",
    "        self._params.update(other._params)\n",
    "        return self\n",
    "\n",
    "#     def __and__(self, other):\n",
    "#         self._params.update(other._params)\n",
    "#         return self\n",
    "    \n",
    "    def __str__(self):\n",
    "        result = ''\n",
    "        for k, v in  self._params.items():\n",
    "            if result:\n",
    "                result += ' OR '\n",
    "#             if result:\n",
    "#                 result += ' OR '\n",
    "            result += f'{k}={repr(v)}'\n",
    "        return result\n",
    "\n",
    "filter = Q()\n",
    "filter |= Q(first_name='John')\n",
    "filter |= Q(last_name='Gonzalez')\n",
    "filter |= Q(stuff=True)\n",
    "filter |= Q(age=42)\n",
    "\n",
    "print(filter)"
   ]
  },
  {
   "cell_type": "markdown",
   "metadata": {},
   "source": [
    "#### `__dict__`"
   ]
  },
  {
   "cell_type": "code",
   "execution_count": 26,
   "metadata": {},
   "outputs": [
    {
     "name": "stdout",
     "output_type": "stream",
     "text": [
      "1 9756192\n",
      "2 9756224\n",
      "attr1 140696442113136\n",
      "attr1 140696442113136\n"
     ]
    }
   ],
   "source": [
    "class A:\n",
    "    attr1 = 'attr1' # static \n",
    "    \n",
    "    def __init__(self, obj_attr1, obj_attr2):\n",
    "        self.obj_attr1 = obj_attr1\n",
    "        self.obj_attr2 = obj_attr2\n",
    "        \n",
    "a = A(1, 'abc')\n",
    "a2 = A(2, 'xyz')\n",
    "\n",
    "print(a.obj_attr1, id(a.obj_attr1))\n",
    "print(a2.obj_attr1, id(a2.obj_attr1))\n",
    "print(a.attr1, id(a.attr1))\n",
    "print(a2.attr1, id(a2.attr1))"
   ]
  },
  {
   "cell_type": "code",
   "execution_count": 37,
   "metadata": {},
   "outputs": [
    {
     "name": "stdout",
     "output_type": "stream",
     "text": [
      "'Obj attrs: '\n",
      "{'obj_attr1': 42, 'obj_attr2': 'abc', 'xxxx': 42}\n",
      "\n",
      "'Class attrs: '\n",
      "mappingproxy({'__dict__': <attribute '__dict__' of 'A' objects>,\n",
      "              '__doc__': None,\n",
      "              '__init__': <function A.__init__ at 0x7ff6780a1310>,\n",
      "              '__module__': '__main__',\n",
      "              '__weakref__': <attribute '__weakref__' of 'A' objects>,\n",
      "              'attr1': 'XYZ'})\n"
     ]
    }
   ],
   "source": [
    "pp('Obj attrs: ')\n",
    "pp(a.__dict__)\n",
    "print()\n",
    "pp('Class attrs: ')\n",
    "pp(A.__dict__)"
   ]
  },
  {
   "cell_type": "code",
   "execution_count": 33,
   "metadata": {},
   "outputs": [
    {
     "name": "stdout",
     "output_type": "stream",
     "text": [
      "42\n",
      "42\n",
      "42\n",
      "XYZ\n",
      "XYZ\n"
     ]
    }
   ],
   "source": [
    "print(a.obj_attr1)\n",
    "print(a.__dict__['obj_attr1'])\n",
    "a.__dict__['obj_attr1'] = 42\n",
    "print(a.obj_attr1)\n",
    "A.attr1 = 'XYZ'\n",
    "print(A.__dict__['attr1'])\n",
    "print(a.attr1)"
   ]
  },
  {
   "cell_type": "code",
   "execution_count": 10,
   "metadata": {},
   "outputs": [
    {
     "name": "stdout",
     "output_type": "stream",
     "text": [
      "140170420188720 140170420188720\n",
      "9756192 9756192\n",
      "140170524185776 140170524185776\n"
     ]
    }
   ],
   "source": [
    "b = A(1, 'abc')\n",
    "print(id(a.attr1), id(b.attr1))\n",
    "print(id(a.obj_attr1), id(b.obj_attr1))\n",
    "print(id(a.obj_attr2), id(b.obj_attr2))"
   ]
  },
  {
   "cell_type": "code",
   "execution_count": 11,
   "metadata": {},
   "outputs": [
    {
     "name": "stdout",
     "output_type": "stream",
     "text": [
      "140170420188720 140170420188720\n",
      "140170420321552 140170420321296\n",
      "140170524185776 140170420980848\n"
     ]
    }
   ],
   "source": [
    "a = A(1024, 'abc')\n",
    "b = A(1024, 'abc'.upper().lower())\n",
    "# c = A(1024, 'ab'+'c')\n",
    "print(id(a.attr1), id(b.attr1))\n",
    "print(id(a.obj_attr1), id(b.obj_attr1))\n",
    "print(id(a.obj_attr2), id(b.obj_attr2))"
   ]
  },
  {
   "cell_type": "code",
   "execution_count": 12,
   "metadata": {},
   "outputs": [
    {
     "name": "stdout",
     "output_type": "stream",
     "text": [
      "140170420188720 9757504\n"
     ]
    }
   ],
   "source": [
    "b.attr1 = 42\n",
    "print(id(a.attr1), id(b.attr1))"
   ]
  },
  {
   "cell_type": "code",
   "execution_count": 13,
   "metadata": {},
   "outputs": [
    {
     "name": "stdout",
     "output_type": "stream",
     "text": [
      "'Obj attrs: '\n",
      "{'attr1': 42, 'obj_attr1': 1024, 'obj_attr2': 'abc'}\n",
      "\n",
      "'Class attrs: '\n",
      "mappingproxy({'__dict__': <attribute '__dict__' of 'A' objects>,\n",
      "              '__doc__': None,\n",
      "              '__init__': <function A.__init__ at 0x7f7bf819bdc0>,\n",
      "              '__module__': '__main__',\n",
      "              '__weakref__': <attribute '__weakref__' of 'A' objects>,\n",
      "              'attr1': 'attr1'})\n"
     ]
    }
   ],
   "source": [
    "pp('Obj attrs: ')\n",
    "pp(b.__dict__)\n",
    "print()\n",
    "pp('Class attrs: ')\n",
    "pp(A.__dict__)"
   ]
  },
  {
   "cell_type": "code",
   "execution_count": 44,
   "metadata": {},
   "outputs": [
    {
     "name": "stdout",
     "output_type": "stream",
     "text": [
      "'Obj attrs: '\n",
      "{'obj_attr1': 42, 'obj_attr2': 'abc', 'xxxx': 42}\n",
      "42\n",
      "140696441656080\n"
     ]
    },
    {
     "ename": "AttributeError",
     "evalue": "'function' object has no attribute 'super_func'",
     "output_type": "error",
     "traceback": [
      "\u001b[0;31m---------------------------------------------------------------------------\u001b[0m",
      "\u001b[0;31mAttributeError\u001b[0m                            Traceback (most recent call last)",
      "\u001b[0;32m<ipython-input-44-5d9eec34d265>\u001b[0m in \u001b[0;36m<module>\u001b[0;34m\u001b[0m\n\u001b[1;32m     20\u001b[0m \u001b[0;34m\u001b[0m\u001b[0m\n\u001b[1;32m     21\u001b[0m \u001b[0mprint\u001b[0m\u001b[0;34m(\u001b[0m\u001b[0mid\u001b[0m\u001b[0;34m(\u001b[0m\u001b[0msuper_lib\u001b[0m\u001b[0;34m)\u001b[0m\u001b[0;34m)\u001b[0m\u001b[0;34m\u001b[0m\u001b[0;34m\u001b[0m\u001b[0m\n\u001b[0;32m---> 22\u001b[0;31m \u001b[0msuper_lib\u001b[0m\u001b[0;34m.\u001b[0m\u001b[0msuper_func\u001b[0m \u001b[0;34m=\u001b[0m \u001b[0mprofile\u001b[0m\u001b[0;34m(\u001b[0m\u001b[0msuper_lib\u001b[0m\u001b[0;34m.\u001b[0m\u001b[0msuper_func\u001b[0m\u001b[0;34m)\u001b[0m\u001b[0;34m\u001b[0m\u001b[0;34m\u001b[0m\u001b[0m\n\u001b[0m\u001b[1;32m     23\u001b[0m \u001b[0mprint\u001b[0m\u001b[0;34m(\u001b[0m\u001b[0mid\u001b[0m\u001b[0;34m(\u001b[0m\u001b[0msuper_lib\u001b[0m\u001b[0;34m)\u001b[0m\u001b[0;34m)\u001b[0m\u001b[0;34m\u001b[0m\u001b[0;34m\u001b[0m\u001b[0m\n",
      "\u001b[0;31mAttributeError\u001b[0m: 'function' object has no attribute 'super_func'"
     ]
    }
   ],
   "source": [
    "# Monkey patching\n",
    "a.xxxx = 42\n",
    "pp('Obj attrs: ')\n",
    "pp(a.__dict__)\n",
    "print(a.xxxx)\n",
    "\n",
    "\n",
    "def super_lib():\n",
    "    def super_func():\n",
    "        print('foo')\n",
    "    super_func = super_func\n",
    "    \n",
    "def profile(f):\n",
    "    from time import time\n",
    "    def deco(*args):\n",
    "        start = time()\n",
    "        f(*args)\n",
    "        print('Elapsed: ', time()-start)\n",
    "    return deco\n",
    "\n",
    "print(id(super_lib.super_func))\n",
    "super_lib.super_func = profile(super_lib.super_func)\n",
    "print(id(super_lib.super_func))"
   ]
  },
  {
   "cell_type": "code",
   "execution_count": 15,
   "metadata": {},
   "outputs": [],
   "source": [
    "a.foo = lambda x: print(x)"
   ]
  },
  {
   "cell_type": "code",
   "execution_count": 16,
   "metadata": {},
   "outputs": [
    {
     "name": "stdout",
     "output_type": "stream",
     "text": [
      "bar\n",
      "'Obj attrs: '\n",
      "{'foo': <function <lambda> at 0x7f7bf8132550>,\n",
      " 'obj_attr1': 1024,\n",
      " 'obj_attr2': 'abc',\n",
      " 'xxxx': 42}\n"
     ]
    }
   ],
   "source": [
    "a.foo('bar')\n",
    "pp('Obj attrs: ')\n",
    "pp(a.__dict__)"
   ]
  },
  {
   "cell_type": "markdown",
   "metadata": {},
   "source": [
    "#### get/set attributes"
   ]
  },
  {
   "cell_type": "code",
   "execution_count": 51,
   "metadata": {},
   "outputs": [
    {
     "name": "stdout",
     "output_type": "stream",
     "text": [
      "__setattr__\n",
      "43\n"
     ]
    }
   ],
   "source": [
    "class A:\n",
    "    def __getattr__(self, name):\n",
    "        print('__getattr__')\n",
    "#         if name in self.__dict__:\n",
    "#             value = self.__dict__[name]\n",
    "#         elif name in self.__class__.__dict__:\n",
    "#             value = self.__class__.__dict__[name]\n",
    "#         else:\n",
    "#             value = super().__getattr__(name)                    \n",
    "#         return value\n",
    "        return 42\n",
    "    \n",
    "    def __setattr__(self, name, value):\n",
    "        print('__setattr__')\n",
    "        self.__dict__[name] = value + 1\n",
    "        \n",
    "    def __delattr__(self, name):\n",
    "        if name in self.__dict__:\n",
    "            del self.__dict__[name]\n",
    "            \n",
    "a = A()\n",
    "a.boo = 42\n",
    "print(a.boo)"
   ]
  },
  {
   "cell_type": "code",
   "execution_count": 56,
   "metadata": {},
   "outputs": [
    {
     "name": "stdout",
     "output_type": "stream",
     "text": [
      "foo\n",
      "foo\n",
      "__call__\n"
     ]
    }
   ],
   "source": [
    "def foo():\n",
    "    print('foo')\n",
    "foo()\n",
    "foo.__call__()\n",
    "\n",
    "class A:\n",
    "    def __call__(self):\n",
    "        print('__call__')\n",
    "    \n",
    "a = A()\n",
    "a()\n"
   ]
  },
  {
   "cell_type": "code",
   "execution_count": 58,
   "metadata": {},
   "outputs": [],
   "source": [
    "class lazy_object:\n",
    "    '''\n",
    "    Class for deferred instantiation of objects.  Init is called\n",
    "    only when the first attribute is either get or set.\n",
    "    '''\n",
    "\n",
    "    def __init__(self, callable, *args, **kw):\n",
    "        '''\n",
    "        callable -- Class of objeсt to be instantiated or functionnn to be called\n",
    "        *args -- arguments to be used when instantiating object\n",
    "        **kw  -- keywords to be used when instantiating object\n",
    "        '''\n",
    "        self.__dict__['callable'] = callable\n",
    "        self.__dict__['args'] = args\n",
    "        self.__dict__['kw'] = kw\n",
    "        self.__dict__['obj'] = None\n",
    "\n",
    "    def initObj(self):\n",
    "        '''\n",
    "        Instantiate object if not already done\n",
    "        '''\n",
    "        if self.obj is None:\n",
    "            self.__dict__['obj'] = self.callable(*self.args, **self.kw)\n",
    "\n",
    "    def __getattr__(self, name):\n",
    "        self.initObj()\n",
    "        return getattr(self.obj, name)\n",
    "\n",
    "    def __setattr__(self, name, value):\n",
    "        self.initObj()\n",
    "        setattr(self.obj, name, value)\n",
    "\n",
    "    def __len__(self):\n",
    "        self.initObj()\n",
    "        return len(self.obj)\n",
    "\n",
    "    def __getitem__(self, idx):\n",
    "        self.initObj()\n",
    "        return self.obj[idx]\n"
   ]
  },
  {
   "cell_type": "code",
   "execution_count": 59,
   "metadata": {},
   "outputs": [
    {
     "name": "stdout",
     "output_type": "stream",
     "text": [
      "<__main__.lazy_object object at 0x7ff671756640>\n"
     ]
    }
   ],
   "source": [
    "class A:\n",
    "    def __init__(self, num_elem):\n",
    "        self.attr1 = list(range(num_elem))\n",
    "        \n",
    "a = lazy_object(A, num_elem=10**8)\n",
    "\n",
    "print(a)"
   ]
  },
  {
   "cell_type": "code",
   "execution_count": 60,
   "metadata": {},
   "outputs": [
    {
     "name": "stdout",
     "output_type": "stream",
     "text": [
      "Elapsed: 1939.880609512329ms\n",
      "Elapsed: 0.0064373016357421875ms\n"
     ]
    }
   ],
   "source": [
    "with timer('Elapsed: {}ms'):\n",
    "   type(a.attr1)\n",
    "\n",
    "with timer('Elapsed: {}ms'):\n",
    "   type(a.attr1)"
   ]
  },
  {
   "cell_type": "markdown",
   "metadata": {},
   "source": [
    "#### `__call__`"
   ]
  },
  {
   "cell_type": "code",
   "execution_count": 21,
   "metadata": {},
   "outputs": [
    {
     "name": "stdout",
     "output_type": "stream",
     "text": [
      "foo\n"
     ]
    }
   ],
   "source": [
    "def foo():\n",
    "    print('foo')\n",
    "\n",
    "foo.__call__()"
   ]
  },
  {
   "cell_type": "code",
   "execution_count": 22,
   "metadata": {},
   "outputs": [
    {
     "name": "stdout",
     "output_type": "stream",
     "text": [
      "called on object\n"
     ]
    }
   ],
   "source": [
    "class A:\n",
    "    def __call__(self):\n",
    "        print('called on object')\n",
    "\n",
    "a = A()\n",
    "a()"
   ]
  },
  {
   "cell_type": "markdown",
   "metadata": {},
   "source": [
    "### Properties, hiding data"
   ]
  },
  {
   "cell_type": "code",
   "execution_count": 82,
   "metadata": {},
   "outputs": [
    {
     "name": "stdout",
     "output_type": "stream",
     "text": [
      "set attr1\n",
      "get attr1\n",
      "42\n",
      "get attr2\n",
      "abc\n",
      "{'_attr1': 42, '_attr2': 'abc', '_A__attr3': 'abc'}\n",
      "abc\n",
      "ABC\n",
      "{'_attr1': 42, '_attr2': 'abc', '_A__attr3': 'abc', '__attr3': 'ABC'}\n"
     ]
    }
   ],
   "source": [
    "class A: # before\n",
    "    \n",
    "    def __init__(self, attr1=None, attr2=None):\n",
    "        self.attr1 = attr1 # protected (client)\n",
    "        self.attr2 = attr2 # protected (client)\n",
    "\n",
    "class A:\n",
    "    \n",
    "    def __init__(self, attr1=None, attr2=None):\n",
    "        self._attr1 = attr1 # protected (client)\n",
    "        self._attr2 = attr2 # protected (client)\n",
    "        self.__attr3 = attr2 # private (client&child)\n",
    "\n",
    "    @property\n",
    "    def attr1(self):\n",
    "        print('get attr1')\n",
    "        return self._attr1\n",
    "        \n",
    "    @attr1.setter\n",
    "    def attr1(self, value):\n",
    "        print('set attr1')\n",
    "        if value > 0:\n",
    "            self._attr1 = value\n",
    "        else:\n",
    "            raise ValueError('Invalid data')\n",
    "       \n",
    "    @property\n",
    "    def attr2(self):\n",
    "        print('get attr2')\n",
    "        return self._attr2\n",
    "\n",
    "a = A(attr2='abc')\n",
    "a.attr1 = 42\n",
    "print(a.attr1)\n",
    "#a.attr1 = -1\n",
    "print(a.attr2)\n",
    "#a.attr2 = 'ABC'\n",
    "#print(a.__attr3)\n",
    "\n",
    "print(a.__dict__)\n",
    "#print(a._A__attr3)\n",
    "print(a._A__attr3)\n",
    "a.__attr3 = 'ABC'\n",
    "print(a.__attr3)\n",
    "print(a.__dict__)\n"
   ]
  },
  {
   "cell_type": "code",
   "execution_count": 68,
   "metadata": {},
   "outputs": [
    {
     "name": "stdout",
     "output_type": "stream",
     "text": [
      "ABC\n"
     ]
    }
   ],
   "source": [
    "a._attr2 = 'ABC'\n",
    "print(a._attr2)"
   ]
  },
  {
   "cell_type": "markdown",
   "metadata": {},
   "source": [
    "\n",
    "\n",
    "## Inheritance"
   ]
  },
  {
   "cell_type": "code",
   "execution_count": 97,
   "metadata": {},
   "outputs": [
    {
     "name": "stdout",
     "output_type": "stream",
     "text": [
      "attrA\n",
      "A2() called\n",
      "Hello from A.foo()\n"
     ]
    },
    {
     "ename": "AttributeError",
     "evalue": "'A2' object has no attribute 'attr1'",
     "output_type": "error",
     "traceback": [
      "\u001b[0;31m---------------------------------------------------------------------------\u001b[0m",
      "\u001b[0;31mAttributeError\u001b[0m                            Traceback (most recent call last)",
      "\u001b[0;32m<ipython-input-97-baed2d65de31>\u001b[0m in \u001b[0;36m<module>\u001b[0;34m\u001b[0m\n\u001b[1;32m     25\u001b[0m \u001b[0ma2\u001b[0m \u001b[0;34m=\u001b[0m \u001b[0mA2\u001b[0m\u001b[0;34m(\u001b[0m\u001b[0;34m)\u001b[0m\u001b[0;34m\u001b[0m\u001b[0;34m\u001b[0m\u001b[0m\n\u001b[1;32m     26\u001b[0m \u001b[0ma2\u001b[0m\u001b[0;34m.\u001b[0m\u001b[0mfoo\u001b[0m\u001b[0;34m(\u001b[0m\u001b[0;34m)\u001b[0m\u001b[0;34m\u001b[0m\u001b[0;34m\u001b[0m\u001b[0m\n\u001b[0;32m---> 27\u001b[0;31m \u001b[0mprint\u001b[0m\u001b[0;34m(\u001b[0m\u001b[0ma2\u001b[0m\u001b[0;34m.\u001b[0m\u001b[0mattr1\u001b[0m\u001b[0;34m)\u001b[0m\u001b[0;34m\u001b[0m\u001b[0;34m\u001b[0m\u001b[0m\n\u001b[0m",
      "\u001b[0;31mAttributeError\u001b[0m: 'A2' object has no attribute 'attr1'"
     ]
    }
   ],
   "source": [
    "class A:\n",
    "    def __init__(self):\n",
    "        self.attr1 = 'attrA'\n",
    "        self.attrX = 'attrX'\n",
    "\n",
    "    def foo(self):\n",
    "        print('Hello from A.foo()')\n",
    "\n",
    "\n",
    "class A1(A):\n",
    "    def __init__(self):\n",
    "        super().__init__()\n",
    "\n",
    "class A2(A):\n",
    "    \n",
    "    def __init__(self):\n",
    "        print('A2() called')\n",
    "        \n",
    "class B1(A1):\n",
    "    pass\n",
    "\n",
    "a1 = A1()\n",
    "print(a1.attr1)\n",
    "\n",
    "a2 = A2()\n",
    "a2.foo()\n",
    "print(a2.attr1)"
   ]
  },
  {
   "cell_type": "code",
   "execution_count": 98,
   "metadata": {},
   "outputs": [
    {
     "name": "stdout",
     "output_type": "stream",
     "text": [
      "attrA1\n",
      "attrA2\n",
      "Hello from A.foo()\n",
      "Hello from A.foo()\n",
      "foo_a1() called\n",
      "foo_a2() called\n"
     ]
    }
   ],
   "source": [
    "class A:\n",
    "\n",
    "    def __init__(self):\n",
    "        super().__init__()\n",
    "    \n",
    "    def foo(self):\n",
    "        \n",
    "        print('Hello from A.foo()')\n",
    "\n",
    "\n",
    "class A1(A):\n",
    "    def __init__(self):\n",
    "        super().__init__()\n",
    "        self.attrA1 = 'attrA1'\n",
    "        \n",
    "    def foo_a1(self):\n",
    "        print('foo_a1() called')\n",
    "\n",
    "        \n",
    "class A2(A):\n",
    "    def __init__(self):\n",
    "        super().__init__()\n",
    "        self.attrA2 = 'attrA2'\n",
    "\n",
    "    def foo_a2(self):\n",
    "        print('foo_a2() called')\n",
    "\n",
    "        \n",
    "a1 = A1()\n",
    "a2 = A2()\n",
    "print(a1.attrA1)\n",
    "print(a2.attrA2)\n",
    "a1.foo()\n",
    "a2.foo()\n",
    "\n",
    "a1.foo_a1()\n",
    "a2.foo_a2()"
   ]
  },
  {
   "cell_type": "code",
   "execution_count": 99,
   "metadata": {},
   "outputs": [
    {
     "ename": "SyntaxError",
     "evalue": "invalid syntax (<ipython-input-99-2539cb78de9c>, line 3)",
     "output_type": "error",
     "traceback": [
      "\u001b[0;36m  File \u001b[0;32m\"<ipython-input-99-2539cb78de9c>\"\u001b[0;36m, line \u001b[0;32m3\u001b[0m\n\u001b[0;31m    supe r().__init__()\u001b[0m\n\u001b[0m         ^\u001b[0m\n\u001b[0;31mSyntaxError\u001b[0m\u001b[0;31m:\u001b[0m invalid syntax\n"
     ]
    }
   ],
   "source": [
    "  \n",
    "class B(A1, A2):\n",
    "    def __init__(self):\n",
    "        supe r().__init__()\n",
    "        self.attr1 = 'attrB'\n",
    "        self.attr2 = 'attr2B'\n",
    "\n",
    "b = B()\n",
    "print(b.__dict__)\n"
   ]
  },
  {
   "cell_type": "code",
   "execution_count": 100,
   "metadata": {},
   "outputs": [
    {
     "name": "stdout",
     "output_type": "stream",
     "text": [
      "[<class '__main__.B'>, <class '__main__.A'>, <class 'object'>]\n"
     ]
    }
   ],
   "source": [
    "print(B.mro())"
   ]
  },
  {
   "cell_type": "code",
   "execution_count": 101,
   "metadata": {},
   "outputs": [],
   "source": [
    "# Links:\n",
    "# https://en.wikipedia.org/wiki/C3_linearization\n",
    "# http://python-history.blogspot.com/2010/06/method-resolution-order.html"
   ]
  },
  {
   "cell_type": "markdown",
   "metadata": {},
   "source": [
    "### Multiple Inheritance -> Mixins\n",
    "#### A mix-in is a small class: \n",
    "- only defines a set of additional methods/attributes\n",
    "- don't require their __init__ constructor to be called.\n"
   ]
  },
  {
   "cell_type": "code",
   "execution_count": 95,
   "metadata": {},
   "outputs": [],
   "source": [
    "class JsonMixin(object):\n",
    "    \n",
    "    @classmethod\n",
    "    def from_json(cls, data):\n",
    "        obj = cls()\n",
    "        attrs = json.loads(data)\n",
    "        vars(obj).update(attrs)\n",
    "        return obj\n",
    "    \n",
    "    def to_json(self):\n",
    "        return json.dumps(vars(self))\n",
    "    \n",
    "\n",
    "class XMLMixin(object):\n",
    "    \n",
    "    @classmethod\n",
    "    def from_xml(cls, data):\n",
    "        obj = cls()\n",
    "        attrs = xmltodict.parse(data)\n",
    "        vars(obj).update(attrs)\n",
    "        return obj\n",
    "    \n",
    "    def to_xml(self):\n",
    "        return dicttoxml.dicttoxml(vars(self)).decode()\n",
    "    \n",
    "\n",
    "class YamlMixin(object):\n",
    "    \n",
    "    @classmethod\n",
    "    def from_yaml(cls, data):\n",
    "        kwargs = yaml.load(data)\n",
    "        return cls(**kwargs)\n",
    "    \n",
    "    def to_yaml(self):\n",
    "        return yaml.dump(vars(self))"
   ]
  },
  {
   "cell_type": "code",
   "execution_count": 102,
   "metadata": {},
   "outputs": [
    {
     "name": "stdout",
     "output_type": "stream",
     "text": [
      "{}\n",
      "<?xml version=\"1.0\" encoding=\"UTF-8\" ?><root></root>\n",
      "{}\n",
      "\n",
      "\n",
      "{}\n",
      "True\n"
     ]
    }
   ],
   "source": [
    "class C(JsonMixin, XMLMixin, YamlMixin, B):\n",
    "    pass\n",
    "c = C()\n",
    "\n",
    "print(c.to_json())\n",
    "print(c.to_xml())\n",
    "print(c.to_yaml())\n",
    "\n",
    "print()\n",
    "print(C.from_json(c.to_json()).to_json())\n",
    "print(C.from_json(c.to_json()).to_json() == c.to_json())\n",
    "# print(C.from_xml(c.to_xml()))"
   ]
  },
  {
   "cell_type": "markdown",
   "metadata": {},
   "source": [
    "#### Static methods"
   ]
  },
  {
   "cell_type": "code",
   "execution_count": 103,
   "metadata": {},
   "outputs": [
    {
     "ename": "TypeError",
     "evalue": "foo() missing 1 required positional argument: 'self'",
     "output_type": "error",
     "traceback": [
      "\u001b[0;31m---------------------------------------------------------------------------\u001b[0m",
      "\u001b[0;31mTypeError\u001b[0m                                 Traceback (most recent call last)",
      "\u001b[0;32m<ipython-input-103-82c4cb43ed18>\u001b[0m in \u001b[0;36m<module>\u001b[0;34m\u001b[0m\n\u001b[1;32m     19\u001b[0m \u001b[0;34m\u001b[0m\u001b[0m\n\u001b[1;32m     20\u001b[0m \u001b[0;31m# A.bar()\u001b[0m\u001b[0;34m\u001b[0m\u001b[0;34m\u001b[0m\u001b[0;34m\u001b[0m\u001b[0m\n\u001b[0;32m---> 21\u001b[0;31m \u001b[0mA\u001b[0m\u001b[0;34m.\u001b[0m\u001b[0mfoo\u001b[0m\u001b[0;34m(\u001b[0m\u001b[0;34m)\u001b[0m\u001b[0;34m\u001b[0m\u001b[0;34m\u001b[0m\u001b[0m\n\u001b[0m\u001b[1;32m     22\u001b[0m \u001b[0mA\u001b[0m\u001b[0;34m.\u001b[0m\u001b[0mfoo_class\u001b[0m\u001b[0;34m(\u001b[0m\u001b[0;34m)\u001b[0m\u001b[0;34m\u001b[0m\u001b[0;34m\u001b[0m\u001b[0m\n\u001b[1;32m     23\u001b[0m \u001b[0;34m\u001b[0m\u001b[0m\n",
      "\u001b[0;31mTypeError\u001b[0m: foo() missing 1 required positional argument: 'self'"
     ]
    }
   ],
   "source": [
    "class A1:\n",
    "    \n",
    "    attr = 'attr_A'\n",
    "    \n",
    "    def bar(self):\n",
    "        print('foo')\n",
    "    \n",
    "    @staticmethod\n",
    "    def foo():\n",
    "        print('foo: ', A1.attr)\n",
    "        \n",
    "\n",
    "    @classmethod\n",
    "    def foo_class(cls):\n",
    "        print('foo_class: ', cls.attr)\n",
    "\n",
    "class B(A):\n",
    "    attr = 'attr_B'\n",
    "   \n",
    "# A.bar()\n",
    "A.foo()\n",
    "A.foo_class()\n",
    "\n",
    "B.foo()\n",
    "B.foo_class()"
   ]
  },
  {
   "cell_type": "markdown",
   "metadata": {},
   "source": [
    "### slots"
   ]
  },
  {
   "cell_type": "code",
   "execution_count": 116,
   "metadata": {},
   "outputs": [
    {
     "name": "stdout",
     "output_type": "stream",
     "text": [
      "42 42\n"
     ]
    }
   ],
   "source": [
    "class A:\n",
    "    __slots__ = ['attr1', 'attr2']\n",
    "\n",
    "a = A()\n",
    "a.attr1 = 42\n",
    "a.attr2 = '42'\n",
    "print(a.attr1, a.attr2)"
   ]
  },
  {
   "cell_type": "code",
   "execution_count": 91,
   "metadata": {},
   "outputs": [],
   "source": [
    "# a.attr3 = 'abc'"
   ]
  },
  {
   "cell_type": "code",
   "execution_count": 107,
   "metadata": {},
   "outputs": [
    {
     "name": "stdout",
     "output_type": "stream",
     "text": [
      "42 42\n"
     ]
    }
   ],
   "source": [
    "class A1:\n",
    "    def __init__(self, attr1, attr2):\n",
    "        self.attr1 = attr1\n",
    "        self.attr2 = attr2\n",
    "\n",
    "a1 = A1(42, '42')\n",
    "print(a1.attr1, a1.attr2)"
   ]
  },
  {
   "cell_type": "code",
   "execution_count": 108,
   "metadata": {},
   "outputs": [
    {
     "name": "stdout",
     "output_type": "stream",
     "text": [
      "48 ['attr1', 'attr2'] 72\n",
      "48 {'attr1': 42, 'attr2': '42'} 104\n"
     ]
    }
   ],
   "source": [
    "from sys import getsizeof\n",
    "print(getsizeof(a), a.__slots__, getsizeof(a.__slots__))\n",
    "print(getsizeof(a1), a1.__dict__, getsizeof(a1.__dict__))"
   ]
  },
  {
   "cell_type": "code",
   "execution_count": 113,
   "metadata": {},
   "outputs": [
    {
     "name": "stdout",
     "output_type": "stream",
     "text": [
      "Elapsed: 306.05101585388184ms\n",
      "Elapsed: 377.72488594055176ms\n"
     ]
    }
   ],
   "source": [
    "with timer('Elapsed: {}ms'):\n",
    "    for _ in range(10**6):\n",
    "        a = A()\n",
    "        a.attr1 = 42\n",
    "        a.attr2 = '42'\n",
    "        _ = a.attr1, a.attr2\n",
    "\n",
    "with timer('Elapsed: {}ms'):\n",
    "    for _ in range(10**6):\n",
    "        a = A1(42, '42')\n",
    "        _ = a.attr1, a.attr2\n"
   ]
  },
  {
   "cell_type": "markdown",
   "metadata": {},
   "source": [
    "### Iterators"
   ]
  },
  {
   "cell_type": "markdown",
   "metadata": {},
   "source": [
    "<img src=\"https://i.imgur.com/TyyXnx0.png\">"
   ]
  },
  {
   "cell_type": "markdown",
   "metadata": {},
   "source": [
    "### Descriptors"
   ]
  },
  {
   "cell_type": "code",
   "execution_count": 121,
   "metadata": {},
   "outputs": [],
   "source": [
    "# Technically, descriptor is a class that supports the following methods: __set__[, __get__],__delete__"
   ]
  },
  {
   "cell_type": "code",
   "execution_count": 126,
   "metadata": {},
   "outputs": [
    {
     "name": "stdout",
     "output_type": "stream",
     "text": [
      "Updating attr\n",
      "Retrieving attr\n",
      "42\n",
      "Deleting attr\n",
      "Updating attr\n",
      "Updating attr\n",
      "Retrieving attr\n",
      "45\n",
      "Retrieving attr\n",
      "45\n",
      "Deleting attr\n"
     ]
    }
   ],
   "source": [
    "class Attribute:\n",
    "\n",
    "    def __init__(self, initval=None, name='var'):\n",
    "        self.val = initval\n",
    "        self.name = name\n",
    "\n",
    "    def __get__(self, obj, objtype):\n",
    "        print('Retrieving', self.name)\n",
    "        return self.val\n",
    "\n",
    "    def __set__(self, obj, val):\n",
    "        print('Updating', self.name)\n",
    "        self.val = val\n",
    "        \n",
    "    def __delete__(self, obj):\n",
    "        print('Deleting', self.name)\n",
    "        self.val = None\n",
    "        \n",
    "class A:\n",
    "    attr = Attribute(name='attr')\n",
    " \n",
    "a = A()\n",
    "a.attr = 42\n",
    "print(a.attr)\n",
    "del a.attr\n",
    "\n",
    "# a1 = A()\n",
    "# a.attr = 44\n",
    "# a1.attr = 45\n",
    "# print(a.attr)\n",
    "# print(a1.attr)\n",
    "# del a1.attr"
   ]
  },
  {
   "cell_type": "code",
   "execution_count": 202,
   "metadata": {},
   "outputs": [],
   "source": [
    "class A:\n",
    "    attr1 = (int, 0)\n",
    "    attr2 = (str, '')\n",
    "\n",
    "    def __getattribute__(self, name): # always called\n",
    "        if name == '__dict__':\n",
    "            return super().__getattribute__(name)\n",
    "        obj_attrs = self.__dict__\n",
    "        cls_attrs = vars(type(self))\n",
    "        if name not in obj_attrs:\n",
    "            if name in cls_attrs:\n",
    "                _, default = cls_attrs[name]\n",
    "                self.__dict__[name] = default\n",
    "        return self.__dict__[name]\n",
    "\n",
    "#     def __getattr__(self, name): # lookup fallback method\n",
    "#         print('__getattr__', name)\n",
    "#         obj_attrs = vars(self) # self.__dict__\n",
    "#         cls_attrs = vars(type(self)) # self.__class__.__dict__\n",
    "#         if name not in obj_attrs:\n",
    "#             if name in cls_attrs:\n",
    "#                 _, default = cls_attrs[name]\n",
    "#                 self.__dict__[name] = default\n",
    "#         return self.__dict__[name]\n",
    "    \n",
    "    def __setattr__(self, name, value):\n",
    "        obj_attrs = vars(self)\n",
    "        cls_attrs = vars(type(self))\n",
    "        if name in cls_attrs:\n",
    "            type_, default = cls_attrs[name]\n",
    "            if isinstance(value, type_):\n",
    "                self.__dict__[name] = value\n",
    "            else:\n",
    "                raise ValueError('Invalid type')\n",
    "\n",
    "    def __delattr__(self, name):\n",
    "        del self.__dict__[name]"
   ]
  },
  {
   "cell_type": "code",
   "execution_count": 206,
   "metadata": {},
   "outputs": [
    {
     "name": "stdout",
     "output_type": "stream",
     "text": [
      "0\n",
      "\n",
      "32 33\n",
      "abc xyz\n"
     ]
    }
   ],
   "source": [
    "a = A()\n",
    "a1 = A()\n",
    "print(a.attr1)\n",
    "print(a.attr2)\n",
    "\n",
    "a.attr1 = 32\n",
    "a.attr2 = 'abc'\n",
    "\n",
    "a1.attr1 = 33\n",
    "a1.attr2 = 'xyz'\n",
    "\n",
    "print(a.attr1, a1.attr1)\n",
    "print(a.attr2, a1.attr2)"
   ]
  },
  {
   "cell_type": "code",
   "execution_count": 209,
   "metadata": {},
   "outputs": [
    {
     "ename": "ValueError",
     "evalue": "Invalid type",
     "output_type": "error",
     "traceback": [
      "\u001b[0;31m---------------------------------------------------------------------------\u001b[0m",
      "\u001b[0;31mValueError\u001b[0m                                Traceback (most recent call last)",
      "\u001b[0;32m<ipython-input-209-83b62d5ba488>\u001b[0m in \u001b[0;36m<module>\u001b[0;34m\u001b[0m\n\u001b[1;32m      1\u001b[0m \u001b[0;31m# a.attr1 = '42'\u001b[0m\u001b[0;34m\u001b[0m\u001b[0;34m\u001b[0m\u001b[0;34m\u001b[0m\u001b[0m\n\u001b[0;32m----> 2\u001b[0;31m \u001b[0ma\u001b[0m\u001b[0;34m.\u001b[0m\u001b[0mattr2\u001b[0m \u001b[0;34m=\u001b[0m \u001b[0;36m42\u001b[0m\u001b[0;34m\u001b[0m\u001b[0;34m\u001b[0m\u001b[0m\n\u001b[0m",
      "\u001b[0;32m<ipython-input-202-c78b16028d64>\u001b[0m in \u001b[0;36m__setattr__\u001b[0;34m(self, name, value)\u001b[0m\n\u001b[1;32m     32\u001b[0m                 \u001b[0mself\u001b[0m\u001b[0;34m.\u001b[0m\u001b[0m__dict__\u001b[0m\u001b[0;34m[\u001b[0m\u001b[0mname\u001b[0m\u001b[0;34m]\u001b[0m \u001b[0;34m=\u001b[0m \u001b[0mvalue\u001b[0m\u001b[0;34m\u001b[0m\u001b[0;34m\u001b[0m\u001b[0m\n\u001b[1;32m     33\u001b[0m             \u001b[0;32melse\u001b[0m\u001b[0;34m:\u001b[0m\u001b[0;34m\u001b[0m\u001b[0;34m\u001b[0m\u001b[0m\n\u001b[0;32m---> 34\u001b[0;31m                 \u001b[0;32mraise\u001b[0m \u001b[0mValueError\u001b[0m\u001b[0;34m(\u001b[0m\u001b[0;34m'Invalid type'\u001b[0m\u001b[0;34m)\u001b[0m\u001b[0;34m\u001b[0m\u001b[0;34m\u001b[0m\u001b[0m\n\u001b[0m\u001b[1;32m     35\u001b[0m \u001b[0;34m\u001b[0m\u001b[0m\n\u001b[1;32m     36\u001b[0m     \u001b[0;32mdef\u001b[0m \u001b[0m__delattr__\u001b[0m\u001b[0;34m(\u001b[0m\u001b[0mself\u001b[0m\u001b[0;34m,\u001b[0m \u001b[0mname\u001b[0m\u001b[0;34m)\u001b[0m\u001b[0;34m:\u001b[0m\u001b[0;34m\u001b[0m\u001b[0;34m\u001b[0m\u001b[0m\n",
      "\u001b[0;31mValueError\u001b[0m: Invalid type"
     ]
    }
   ],
   "source": [
    "# a.attr1 = '42'\n",
    "a.attr2 = 42"
   ]
  },
  {
   "cell_type": "code",
   "execution_count": 221,
   "metadata": {},
   "outputs": [],
   "source": [
    "class TypeCheckerMixin:\n",
    "\n",
    "    def __setattr__(self, name, value):\n",
    "        obj_attrs = vars(self)\n",
    "        cls_attrs = vars(type(self))\n",
    "        if name in cls_attrs:\n",
    "            type_, default = cls_attrs[name]\n",
    "            if isinstance(value, type_):\n",
    "                self.__dict__[name] = value\n",
    "            else:\n",
    "                raise ValueError('Invalid type')\n",
    "\n",
    "class A(TypeCheckerMixin):\n",
    "    attr1 = (int, 0)\n",
    "    attr2 = (str, '')\n",
    "    attr3 = (bool, False)\n",
    "\n",
    "a = A()\n",
    "\n",
    "a.attr1 = 42\n",
    "#a.attr1 = '42'\n",
    "\n",
    "# But what if we want to check range for ints, regex amtch for strings, isclose() for floats?"
   ]
  },
  {
   "cell_type": "code",
   "execution_count": 282,
   "metadata": {},
   "outputs": [],
   "source": [
    "class Descriptor:\n",
    "    def __init__(self, name=None, default=None):\n",
    "        self.name = name\n",
    "        self.default = default\n",
    "\n",
    "    def __set__(self, instance, value):\n",
    "        instance.__dict__[self.name] = value\n",
    "\n",
    "    def __get__(self, instance, objtype):\n",
    "        if self.name not in instance.__dict__:\n",
    "            instance.__dict__[self.name] = self.default\n",
    "        return instance.__dict__[self.name]\n",
    "\n",
    "    def __delete__(self, instance):\n",
    "        raise AttributeError(\"Can't delete\")\n",
    "\n",
    "class Typed(Descriptor):\n",
    "    type_ = object\n",
    "    def __set__(self, instance, value):\n",
    "        if not isinstance(value, self.type_):\n",
    "            raise TypeError('Expected %s' % self.type_)\n",
    "        super().__set__(instance, value)\n",
    "\n",
    "# Specialized types\n",
    "class Integer(Typed):\n",
    "    type_ = int\n",
    "\n",
    "class Float(Typed):\n",
    "    type_ = float\n",
    "\n",
    "class String(Typed):\n",
    "    type_ = str\n"
   ]
  },
  {
   "cell_type": "code",
   "execution_count": 247,
   "metadata": {},
   "outputs": [
    {
     "name": "stdout",
     "output_type": "stream",
     "text": [
      "__set__ attr1 32\n"
     ]
    }
   ],
   "source": [
    "class A:\n",
    "    attr1 = Integer(name='attr1')\n",
    "\n",
    "a = A()\n",
    "a.attr1 = 32\n",
    "# a.attr1 = '32'"
   ]
  },
  {
   "cell_type": "code",
   "execution_count": 283,
   "metadata": {},
   "outputs": [],
   "source": [
    "# Value checking\n",
    "class Positive(Descriptor):\n",
    "    def __set__(self, instance, value):\n",
    "        if value < 0:\n",
    "            raise ValueError('Expected >= 0')\n",
    "        super().__set__(instance, value)\n",
    "\n",
    "# More specialized types\n",
    "class PosInteger(Integer, Positive):\n",
    "    pass\n",
    "\n",
    "class PosFloat(Float, Positive):\n",
    "    pass\n",
    "\n",
    "# Length checking\n",
    "class Sized(Descriptor):\n",
    "    def __init__(self, *args, maxlen, **kwargs):\n",
    "        self.maxlen = maxlen\n",
    "        super().__init__(*args, **kwargs)\n",
    "        \n",
    "\n",
    "    def __set__(self, instance, value):\n",
    "        if len(value) > self.maxlen:\n",
    "            raise ValueError('Too big')\n",
    "        super().__set__(instance, value)\n",
    "\n",
    "class SizedString(String, Sized):\n",
    "    pass\n",
    "\n",
    "# Pattern matching\n",
    "class Regex(Descriptor):\n",
    "    def __init__(self, *args, pattern, **kwargs):\n",
    "        self.pattern = re.compile(pattern)\n",
    "        super().__init__(*args, **kwargs)\n",
    "    \n",
    "    def __set__(self, instance, value):\n",
    "        if not self.pattern.match(value):\n",
    "            raise ValueError('Invalid string')\n",
    "        super().__set__(instance, value)\n",
    "\n",
    "class SizedRegexString(SizedString, Regex):\n",
    "    pass\n"
   ]
  },
  {
   "cell_type": "code",
   "execution_count": 285,
   "metadata": {},
   "outputs": [
    {
     "name": "stdout",
     "output_type": "stream",
     "text": [
      "42\n",
      "32\n",
      "5\n"
     ]
    }
   ],
   "source": [
    "class A:\n",
    "    attr1 = PosInteger(default=42)\n",
    "    attr2 = PosFloat()\n",
    "    attr3 = SizedRegexString(maxlen=11, pattern='\\d{3}-\\d{7}')\n",
    "\n",
    "a = A()\n",
    "print(a.attr1)\n",
    "a.attr1 = 32\n",
    "print(a.attr1)\n",
    "a.attr2 = 0.1\n",
    "a.attr3 = '067-9372129'\n",
    "\n",
    "a1 = A()\n",
    "a1.attr1 = 5\n",
    "print(a1.attr1)\n"
   ]
  },
  {
   "cell_type": "markdown",
   "metadata": {},
   "source": [
    "### Metaclasses\n"
   ]
  },
  {
   "cell_type": "markdown",
   "metadata": {},
   "source": [
    "<img src=\"https://blog.ionelmc.ro/2015/02/09/understanding-python-metaclasses/instance-of.png\">"
   ]
  }
 ],
 "metadata": {
  "kernelspec": {
   "display_name": "Python 3",
   "language": "python",
   "name": "python3"
  },
  "language_info": {
   "codemirror_mode": {
    "name": "ipython",
    "version": 3
   },
   "file_extension": ".py",
   "mimetype": "text/x-python",
   "name": "python",
   "nbconvert_exporter": "python",
   "pygments_lexer": "ipython3",
   "version": "3.8.2"
  }
 },
 "nbformat": 4,
 "nbformat_minor": 4
}
